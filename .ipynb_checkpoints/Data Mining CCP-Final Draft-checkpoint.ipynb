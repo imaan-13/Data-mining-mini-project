{
 "cells": [
  {
   "cell_type": "markdown",
   "id": "b4f582c8",
   "metadata": {},
   "source": [
    "# DATA MINING CCP\n"
   ]
  },
  {
   "cell_type": "markdown",
   "id": "df99cdff",
   "metadata": {},
   "source": [
    "# 1. DATA PREPROCESSING"
   ]
  },
  {
   "cell_type": "code",
   "execution_count": 1,
   "id": "9c67e637",
   "metadata": {},
   "outputs": [],
   "source": [
    "import pandas as pd\n",
    "import numpy as np\n",
    "import matplotlib.pyplot as plt\n",
    "import seaborn as sns\n",
    "\n",
    "\n",
    "from sklearn.metrics import accuracy_score\n",
    "from sklearn.tree import DecisionTreeClassifier\n",
    "from sklearn import metrics\n",
    "from sklearn.svm import SVC\n",
    "from sklearn.metrics import accuracy_score\n",
    "from sklearn.metrics import classification_report,confusion_matrix\n",
    "\n",
    "from sklearn.linear_model import LogisticRegression\n",
    "from sklearn.ensemble import GradientBoostingClassifier\n",
    "from sklearn.model_selection import cross_val_score\n",
    "\n",
    "import warnings\n",
    "warnings.filterwarnings(\"ignore\")\n"
   ]
  },
  {
   "cell_type": "code",
   "execution_count": 2,
   "id": "b120a4a2",
   "metadata": {},
   "outputs": [
    {
     "data": {
      "text/html": [
       "<div>\n",
       "<style scoped>\n",
       "    .dataframe tbody tr th:only-of-type {\n",
       "        vertical-align: middle;\n",
       "    }\n",
       "\n",
       "    .dataframe tbody tr th {\n",
       "        vertical-align: top;\n",
       "    }\n",
       "\n",
       "    .dataframe thead th {\n",
       "        text-align: right;\n",
       "    }\n",
       "</style>\n",
       "<table border=\"1\" class=\"dataframe\">\n",
       "  <thead>\n",
       "    <tr style=\"text-align: right;\">\n",
       "      <th></th>\n",
       "      <th>loan_id</th>\n",
       "      <th>age</th>\n",
       "      <th>education</th>\n",
       "      <th>proof_submitted</th>\n",
       "      <th>loan_amount</th>\n",
       "      <th>asset_cost</th>\n",
       "      <th>no_of_loans</th>\n",
       "      <th>no_of_curr_loans</th>\n",
       "      <th>last_delinq_none</th>\n",
       "      <th>loan_default</th>\n",
       "    </tr>\n",
       "  </thead>\n",
       "  <tbody>\n",
       "    <tr>\n",
       "      <th>0</th>\n",
       "      <td>1</td>\n",
       "      <td>27</td>\n",
       "      <td>1.0</td>\n",
       "      <td>Aadhar</td>\n",
       "      <td>504264</td>\n",
       "      <td>820920</td>\n",
       "      <td>2</td>\n",
       "      <td>2</td>\n",
       "      <td>0</td>\n",
       "      <td>0</td>\n",
       "    </tr>\n",
       "    <tr>\n",
       "      <th>1</th>\n",
       "      <td>2</td>\n",
       "      <td>48</td>\n",
       "      <td>1.0</td>\n",
       "      <td>Aadhar</td>\n",
       "      <td>728556</td>\n",
       "      <td>831444</td>\n",
       "      <td>6</td>\n",
       "      <td>2</td>\n",
       "      <td>0</td>\n",
       "      <td>0</td>\n",
       "    </tr>\n",
       "    <tr>\n",
       "      <th>2</th>\n",
       "      <td>3</td>\n",
       "      <td>30</td>\n",
       "      <td>2.0</td>\n",
       "      <td>VoterID</td>\n",
       "      <td>642936</td>\n",
       "      <td>826092</td>\n",
       "      <td>0</td>\n",
       "      <td>0</td>\n",
       "      <td>0</td>\n",
       "      <td>1</td>\n",
       "    </tr>\n",
       "    <tr>\n",
       "      <th>3</th>\n",
       "      <td>4</td>\n",
       "      <td>28</td>\n",
       "      <td>1.0</td>\n",
       "      <td>Aadhar</td>\n",
       "      <td>746556</td>\n",
       "      <td>930924</td>\n",
       "      <td>0</td>\n",
       "      <td>0</td>\n",
       "      <td>0</td>\n",
       "      <td>0</td>\n",
       "    </tr>\n",
       "    <tr>\n",
       "      <th>4</th>\n",
       "      <td>5</td>\n",
       "      <td>29</td>\n",
       "      <td>1.0</td>\n",
       "      <td>Aadhar</td>\n",
       "      <td>1139880</td>\n",
       "      <td>1902000</td>\n",
       "      <td>0</td>\n",
       "      <td>0</td>\n",
       "      <td>0</td>\n",
       "      <td>0</td>\n",
       "    </tr>\n",
       "  </tbody>\n",
       "</table>\n",
       "</div>"
      ],
      "text/plain": [
       "   loan_id  age  education proof_submitted  loan_amount  asset_cost  \\\n",
       "0        1   27        1.0          Aadhar       504264      820920   \n",
       "1        2   48        1.0          Aadhar       728556      831444   \n",
       "2        3   30        2.0         VoterID       642936      826092   \n",
       "3        4   28        1.0          Aadhar       746556      930924   \n",
       "4        5   29        1.0          Aadhar      1139880     1902000   \n",
       "\n",
       "   no_of_loans  no_of_curr_loans  last_delinq_none  loan_default  \n",
       "0            2                 2                 0             0  \n",
       "1            6                 2                 0             0  \n",
       "2            0                 0                 0             1  \n",
       "3            0                 0                 0             0  \n",
       "4            0                 0                 0             0  "
      ]
     },
     "execution_count": 2,
     "metadata": {},
     "output_type": "execute_result"
    }
   ],
   "source": [
    "df = pd.read_csv('loan default train dataset.csv')\n",
    "df.head()"
   ]
  },
  {
   "cell_type": "code",
   "execution_count": 3,
   "id": "ef74e5fb",
   "metadata": {},
   "outputs": [
    {
     "data": {
      "text/html": [
       "<div>\n",
       "<style scoped>\n",
       "    .dataframe tbody tr th:only-of-type {\n",
       "        vertical-align: middle;\n",
       "    }\n",
       "\n",
       "    .dataframe tbody tr th {\n",
       "        vertical-align: top;\n",
       "    }\n",
       "\n",
       "    .dataframe thead th {\n",
       "        text-align: right;\n",
       "    }\n",
       "</style>\n",
       "<table border=\"1\" class=\"dataframe\">\n",
       "  <thead>\n",
       "    <tr style=\"text-align: right;\">\n",
       "      <th></th>\n",
       "      <th>loan_id</th>\n",
       "      <th>age</th>\n",
       "      <th>proof_submitted</th>\n",
       "      <th>loan_amount</th>\n",
       "      <th>asset_cost</th>\n",
       "      <th>no_of_loans</th>\n",
       "      <th>no_of_curr_loans</th>\n",
       "      <th>last_delinq_none</th>\n",
       "      <th>loan_default</th>\n",
       "    </tr>\n",
       "  </thead>\n",
       "  <tbody>\n",
       "    <tr>\n",
       "      <th>0</th>\n",
       "      <td>1</td>\n",
       "      <td>27</td>\n",
       "      <td>Aadhar</td>\n",
       "      <td>504264</td>\n",
       "      <td>820920</td>\n",
       "      <td>2</td>\n",
       "      <td>2</td>\n",
       "      <td>0</td>\n",
       "      <td>0</td>\n",
       "    </tr>\n",
       "    <tr>\n",
       "      <th>1</th>\n",
       "      <td>2</td>\n",
       "      <td>48</td>\n",
       "      <td>Aadhar</td>\n",
       "      <td>728556</td>\n",
       "      <td>831444</td>\n",
       "      <td>6</td>\n",
       "      <td>2</td>\n",
       "      <td>0</td>\n",
       "      <td>0</td>\n",
       "    </tr>\n",
       "    <tr>\n",
       "      <th>2</th>\n",
       "      <td>3</td>\n",
       "      <td>30</td>\n",
       "      <td>VoterID</td>\n",
       "      <td>642936</td>\n",
       "      <td>826092</td>\n",
       "      <td>0</td>\n",
       "      <td>0</td>\n",
       "      <td>0</td>\n",
       "      <td>1</td>\n",
       "    </tr>\n",
       "    <tr>\n",
       "      <th>3</th>\n",
       "      <td>4</td>\n",
       "      <td>28</td>\n",
       "      <td>Aadhar</td>\n",
       "      <td>746556</td>\n",
       "      <td>930924</td>\n",
       "      <td>0</td>\n",
       "      <td>0</td>\n",
       "      <td>0</td>\n",
       "      <td>0</td>\n",
       "    </tr>\n",
       "    <tr>\n",
       "      <th>4</th>\n",
       "      <td>5</td>\n",
       "      <td>29</td>\n",
       "      <td>Aadhar</td>\n",
       "      <td>1139880</td>\n",
       "      <td>1902000</td>\n",
       "      <td>0</td>\n",
       "      <td>0</td>\n",
       "      <td>0</td>\n",
       "      <td>0</td>\n",
       "    </tr>\n",
       "  </tbody>\n",
       "</table>\n",
       "</div>"
      ],
      "text/plain": [
       "   loan_id  age proof_submitted  loan_amount  asset_cost  no_of_loans  \\\n",
       "0        1   27          Aadhar       504264      820920            2   \n",
       "1        2   48          Aadhar       728556      831444            6   \n",
       "2        3   30         VoterID       642936      826092            0   \n",
       "3        4   28          Aadhar       746556      930924            0   \n",
       "4        5   29          Aadhar      1139880     1902000            0   \n",
       "\n",
       "   no_of_curr_loans  last_delinq_none  loan_default  \n",
       "0                 2                 0             0  \n",
       "1                 2                 0             0  \n",
       "2                 0                 0             1  \n",
       "3                 0                 0             0  \n",
       "4                 0                 0             0  "
      ]
     },
     "execution_count": 3,
     "metadata": {},
     "output_type": "execute_result"
    }
   ],
   "source": [
    "df2=df.drop([\"education\"],axis=1)\n",
    "df2.head()"
   ]
  },
  {
   "cell_type": "code",
   "execution_count": 4,
   "id": "b9080e37",
   "metadata": {},
   "outputs": [
    {
     "data": {
      "text/plain": [
       "(7000, 9)"
      ]
     },
     "execution_count": 4,
     "metadata": {},
     "output_type": "execute_result"
    }
   ],
   "source": [
    "df2.shape"
   ]
  },
  {
   "cell_type": "code",
   "execution_count": 5,
   "id": "d7141c83",
   "metadata": {},
   "outputs": [
    {
     "data": {
      "text/plain": [
       "loan_id             0\n",
       "age                 0\n",
       "proof_submitted     0\n",
       "loan_amount         0\n",
       "asset_cost          0\n",
       "no_of_loans         0\n",
       "no_of_curr_loans    0\n",
       "last_delinq_none    0\n",
       "loan_default        0\n",
       "dtype: int64"
      ]
     },
     "execution_count": 5,
     "metadata": {},
     "output_type": "execute_result"
    }
   ],
   "source": [
    "df2.isnull().sum()"
   ]
  },
  {
   "cell_type": "code",
   "execution_count": 6,
   "id": "ad961205",
   "metadata": {},
   "outputs": [
    {
     "data": {
      "text/plain": [
       "loan_id             False\n",
       "age                 False\n",
       "proof_submitted     False\n",
       "loan_amount         False\n",
       "asset_cost          False\n",
       "no_of_loans         False\n",
       "no_of_curr_loans    False\n",
       "last_delinq_none    False\n",
       "loan_default        False\n",
       "dtype: bool"
      ]
     },
     "execution_count": 6,
     "metadata": {},
     "output_type": "execute_result"
    }
   ],
   "source": [
    "df2.isnull().any()"
   ]
  },
  {
   "cell_type": "code",
   "execution_count": 7,
   "id": "c051aea7",
   "metadata": {},
   "outputs": [
    {
     "data": {
      "text/html": [
       "<div>\n",
       "<style scoped>\n",
       "    .dataframe tbody tr th:only-of-type {\n",
       "        vertical-align: middle;\n",
       "    }\n",
       "\n",
       "    .dataframe tbody tr th {\n",
       "        vertical-align: top;\n",
       "    }\n",
       "\n",
       "    .dataframe thead th {\n",
       "        text-align: right;\n",
       "    }\n",
       "</style>\n",
       "<table border=\"1\" class=\"dataframe\">\n",
       "  <thead>\n",
       "    <tr style=\"text-align: right;\">\n",
       "      <th></th>\n",
       "      <th>loan_id</th>\n",
       "      <th>age</th>\n",
       "      <th>loan_amount</th>\n",
       "      <th>asset_cost</th>\n",
       "      <th>no_of_loans</th>\n",
       "      <th>no_of_curr_loans</th>\n",
       "      <th>last_delinq_none</th>\n",
       "      <th>loan_default</th>\n",
       "    </tr>\n",
       "  </thead>\n",
       "  <tbody>\n",
       "    <tr>\n",
       "      <th>count</th>\n",
       "      <td>7000.000000</td>\n",
       "      <td>7000.000000</td>\n",
       "      <td>7.000000e+03</td>\n",
       "      <td>7.000000e+03</td>\n",
       "      <td>7000.000000</td>\n",
       "      <td>7000.000000</td>\n",
       "      <td>7000.000000</td>\n",
       "      <td>7000.000000</td>\n",
       "    </tr>\n",
       "    <tr>\n",
       "      <th>mean</th>\n",
       "      <td>3500.500000</td>\n",
       "      <td>36.096571</td>\n",
       "      <td>6.633552e+05</td>\n",
       "      <td>9.162998e+05</td>\n",
       "      <td>2.853286</td>\n",
       "      <td>1.371143</td>\n",
       "      <td>0.013286</td>\n",
       "      <td>0.400000</td>\n",
       "    </tr>\n",
       "    <tr>\n",
       "      <th>std</th>\n",
       "      <td>2020.870275</td>\n",
       "      <td>7.587700</td>\n",
       "      <td>1.498128e+05</td>\n",
       "      <td>2.144922e+05</td>\n",
       "      <td>5.471932</td>\n",
       "      <td>2.189278</td>\n",
       "      <td>0.114504</td>\n",
       "      <td>0.489933</td>\n",
       "    </tr>\n",
       "    <tr>\n",
       "      <th>min</th>\n",
       "      <td>1.000000</td>\n",
       "      <td>21.000000</td>\n",
       "      <td>1.678800e+05</td>\n",
       "      <td>4.733520e+05</td>\n",
       "      <td>0.000000</td>\n",
       "      <td>0.000000</td>\n",
       "      <td>0.000000</td>\n",
       "      <td>0.000000</td>\n",
       "    </tr>\n",
       "    <tr>\n",
       "      <th>25%</th>\n",
       "      <td>1750.750000</td>\n",
       "      <td>29.000000</td>\n",
       "      <td>5.777880e+05</td>\n",
       "      <td>7.979010e+05</td>\n",
       "      <td>0.000000</td>\n",
       "      <td>0.000000</td>\n",
       "      <td>0.000000</td>\n",
       "      <td>0.000000</td>\n",
       "    </tr>\n",
       "    <tr>\n",
       "      <th>50%</th>\n",
       "      <td>3500.500000</td>\n",
       "      <td>36.000000</td>\n",
       "      <td>6.571080e+05</td>\n",
       "      <td>8.584260e+05</td>\n",
       "      <td>0.000000</td>\n",
       "      <td>0.000000</td>\n",
       "      <td>0.000000</td>\n",
       "      <td>0.000000</td>\n",
       "    </tr>\n",
       "    <tr>\n",
       "      <th>75%</th>\n",
       "      <td>5250.250000</td>\n",
       "      <td>43.000000</td>\n",
       "      <td>7.373640e+05</td>\n",
       "      <td>9.576750e+05</td>\n",
       "      <td>3.000000</td>\n",
       "      <td>2.000000</td>\n",
       "      <td>0.000000</td>\n",
       "      <td>1.000000</td>\n",
       "    </tr>\n",
       "    <tr>\n",
       "      <th>max</th>\n",
       "      <td>7000.000000</td>\n",
       "      <td>50.000000</td>\n",
       "      <td>1.781376e+06</td>\n",
       "      <td>2.419200e+06</td>\n",
       "      <td>109.000000</td>\n",
       "      <td>33.000000</td>\n",
       "      <td>1.000000</td>\n",
       "      <td>1.000000</td>\n",
       "    </tr>\n",
       "  </tbody>\n",
       "</table>\n",
       "</div>"
      ],
      "text/plain": [
       "           loan_id          age   loan_amount    asset_cost  no_of_loans  \\\n",
       "count  7000.000000  7000.000000  7.000000e+03  7.000000e+03  7000.000000   \n",
       "mean   3500.500000    36.096571  6.633552e+05  9.162998e+05     2.853286   \n",
       "std    2020.870275     7.587700  1.498128e+05  2.144922e+05     5.471932   \n",
       "min       1.000000    21.000000  1.678800e+05  4.733520e+05     0.000000   \n",
       "25%    1750.750000    29.000000  5.777880e+05  7.979010e+05     0.000000   \n",
       "50%    3500.500000    36.000000  6.571080e+05  8.584260e+05     0.000000   \n",
       "75%    5250.250000    43.000000  7.373640e+05  9.576750e+05     3.000000   \n",
       "max    7000.000000    50.000000  1.781376e+06  2.419200e+06   109.000000   \n",
       "\n",
       "       no_of_curr_loans  last_delinq_none  loan_default  \n",
       "count       7000.000000       7000.000000   7000.000000  \n",
       "mean           1.371143          0.013286      0.400000  \n",
       "std            2.189278          0.114504      0.489933  \n",
       "min            0.000000          0.000000      0.000000  \n",
       "25%            0.000000          0.000000      0.000000  \n",
       "50%            0.000000          0.000000      0.000000  \n",
       "75%            2.000000          0.000000      1.000000  \n",
       "max           33.000000          1.000000      1.000000  "
      ]
     },
     "execution_count": 7,
     "metadata": {},
     "output_type": "execute_result"
    }
   ],
   "source": [
    "df2.describe()"
   ]
  },
  {
   "cell_type": "code",
   "execution_count": 8,
   "id": "3ea24994",
   "metadata": {},
   "outputs": [
    {
     "name": "stdout",
     "output_type": "stream",
     "text": [
      "<class 'pandas.core.frame.DataFrame'>\n",
      "RangeIndex: 7000 entries, 0 to 6999\n",
      "Data columns (total 9 columns):\n",
      " #   Column            Non-Null Count  Dtype \n",
      "---  ------            --------------  ----- \n",
      " 0   loan_id           7000 non-null   int64 \n",
      " 1   age               7000 non-null   int64 \n",
      " 2   proof_submitted   7000 non-null   object\n",
      " 3   loan_amount       7000 non-null   int64 \n",
      " 4   asset_cost        7000 non-null   int64 \n",
      " 5   no_of_loans       7000 non-null   int64 \n",
      " 6   no_of_curr_loans  7000 non-null   int64 \n",
      " 7   last_delinq_none  7000 non-null   int64 \n",
      " 8   loan_default      7000 non-null   int64 \n",
      "dtypes: int64(8), object(1)\n",
      "memory usage: 492.3+ KB\n"
     ]
    }
   ],
   "source": [
    "df2.info()"
   ]
  },
  {
   "cell_type": "markdown",
   "id": "ae637a09",
   "metadata": {},
   "source": [
    "### Checking if data is imbalance and converting it into balanced dataset"
   ]
  },
  {
   "cell_type": "code",
   "execution_count": 9,
   "id": "cc41cdbb",
   "metadata": {},
   "outputs": [
    {
     "name": "stdout",
     "output_type": "stream",
     "text": [
      "0    4200\n",
      "1    2800\n",
      "Name: loan_default, dtype: int64\n"
     ]
    }
   ],
   "source": [
    "\n",
    "value_counts = df2[\"loan_default\"].value_counts()\n",
    "print(value_counts)"
   ]
  },
  {
   "cell_type": "code",
   "execution_count": 10,
   "id": "27bdeedf",
   "metadata": {},
   "outputs": [],
   "source": [
    "import imblearn\n",
    "from collections import Counter\n"
   ]
  },
  {
   "cell_type": "code",
   "execution_count": 11,
   "id": "02f04616",
   "metadata": {},
   "outputs": [],
   "source": [
    "X=df2.drop([\"loan_default\"],axis=1)\n",
    "y=df2[\"loan_default\"]"
   ]
  },
  {
   "cell_type": "code",
   "execution_count": 12,
   "id": "78e3754c",
   "metadata": {},
   "outputs": [],
   "source": [
    "from imblearn.under_sampling import RandomUnderSampler\n",
    "rs=RandomUnderSampler(random_state=42)"
   ]
  },
  {
   "cell_type": "code",
   "execution_count": 13,
   "id": "2aedd98d",
   "metadata": {},
   "outputs": [
    {
     "name": "stdout",
     "output_type": "stream",
     "text": [
      "After sampling Counter({0: 2800, 1: 2800})\n"
     ]
    }
   ],
   "source": [
    "X_res,y_res=rs.fit_resample(X,y)\n",
    "print(\"After sampling %s\" % Counter(y_res))"
   ]
  },
  {
   "cell_type": "code",
   "execution_count": 14,
   "id": "bca24021",
   "metadata": {},
   "outputs": [],
   "source": [
    "sampled_data = pd.DataFrame(X_res, columns=X.columns)\n",
    "sampled_data['loan_default'] = y_res"
   ]
  },
  {
   "cell_type": "code",
   "execution_count": 15,
   "id": "8e5a4296",
   "metadata": {},
   "outputs": [
    {
     "data": {
      "text/html": [
       "<div>\n",
       "<style scoped>\n",
       "    .dataframe tbody tr th:only-of-type {\n",
       "        vertical-align: middle;\n",
       "    }\n",
       "\n",
       "    .dataframe tbody tr th {\n",
       "        vertical-align: top;\n",
       "    }\n",
       "\n",
       "    .dataframe thead th {\n",
       "        text-align: right;\n",
       "    }\n",
       "</style>\n",
       "<table border=\"1\" class=\"dataframe\">\n",
       "  <thead>\n",
       "    <tr style=\"text-align: right;\">\n",
       "      <th></th>\n",
       "      <th>loan_id</th>\n",
       "      <th>age</th>\n",
       "      <th>proof_submitted</th>\n",
       "      <th>loan_amount</th>\n",
       "      <th>asset_cost</th>\n",
       "      <th>no_of_loans</th>\n",
       "      <th>no_of_curr_loans</th>\n",
       "      <th>last_delinq_none</th>\n",
       "      <th>loan_default</th>\n",
       "    </tr>\n",
       "  </thead>\n",
       "  <tbody>\n",
       "    <tr>\n",
       "      <th>0</th>\n",
       "      <td>2857</td>\n",
       "      <td>35</td>\n",
       "      <td>Aadhar</td>\n",
       "      <td>550188</td>\n",
       "      <td>1055736</td>\n",
       "      <td>8</td>\n",
       "      <td>3</td>\n",
       "      <td>0</td>\n",
       "      <td>0</td>\n",
       "    </tr>\n",
       "    <tr>\n",
       "      <th>1</th>\n",
       "      <td>3655</td>\n",
       "      <td>33</td>\n",
       "      <td>Aadhar</td>\n",
       "      <td>580188</td>\n",
       "      <td>749052</td>\n",
       "      <td>0</td>\n",
       "      <td>0</td>\n",
       "      <td>0</td>\n",
       "      <td>0</td>\n",
       "    </tr>\n",
       "    <tr>\n",
       "      <th>2</th>\n",
       "      <td>2833</td>\n",
       "      <td>39</td>\n",
       "      <td>Aadhar</td>\n",
       "      <td>542748</td>\n",
       "      <td>614076</td>\n",
       "      <td>0</td>\n",
       "      <td>0</td>\n",
       "      <td>0</td>\n",
       "      <td>0</td>\n",
       "    </tr>\n",
       "    <tr>\n",
       "      <th>3</th>\n",
       "      <td>5556</td>\n",
       "      <td>32</td>\n",
       "      <td>Aadhar</td>\n",
       "      <td>675108</td>\n",
       "      <td>1807356</td>\n",
       "      <td>0</td>\n",
       "      <td>0</td>\n",
       "      <td>0</td>\n",
       "      <td>0</td>\n",
       "    </tr>\n",
       "    <tr>\n",
       "      <th>4</th>\n",
       "      <td>479</td>\n",
       "      <td>41</td>\n",
       "      <td>Aadhar</td>\n",
       "      <td>750156</td>\n",
       "      <td>975600</td>\n",
       "      <td>0</td>\n",
       "      <td>0</td>\n",
       "      <td>0</td>\n",
       "      <td>0</td>\n",
       "    </tr>\n",
       "    <tr>\n",
       "      <th>...</th>\n",
       "      <td>...</td>\n",
       "      <td>...</td>\n",
       "      <td>...</td>\n",
       "      <td>...</td>\n",
       "      <td>...</td>\n",
       "      <td>...</td>\n",
       "      <td>...</td>\n",
       "      <td>...</td>\n",
       "      <td>...</td>\n",
       "    </tr>\n",
       "    <tr>\n",
       "      <th>5595</th>\n",
       "      <td>6995</td>\n",
       "      <td>40</td>\n",
       "      <td>Aadhar</td>\n",
       "      <td>696156</td>\n",
       "      <td>868584</td>\n",
       "      <td>0</td>\n",
       "      <td>0</td>\n",
       "      <td>0</td>\n",
       "      <td>1</td>\n",
       "    </tr>\n",
       "    <tr>\n",
       "      <th>5596</th>\n",
       "      <td>6996</td>\n",
       "      <td>45</td>\n",
       "      <td>Aadhar</td>\n",
       "      <td>930948</td>\n",
       "      <td>1258344</td>\n",
       "      <td>0</td>\n",
       "      <td>0</td>\n",
       "      <td>0</td>\n",
       "      <td>1</td>\n",
       "    </tr>\n",
       "    <tr>\n",
       "      <th>5597</th>\n",
       "      <td>6997</td>\n",
       "      <td>41</td>\n",
       "      <td>Aadhar</td>\n",
       "      <td>681108</td>\n",
       "      <td>791040</td>\n",
       "      <td>4</td>\n",
       "      <td>4</td>\n",
       "      <td>0</td>\n",
       "      <td>1</td>\n",
       "    </tr>\n",
       "    <tr>\n",
       "      <th>5598</th>\n",
       "      <td>6998</td>\n",
       "      <td>47</td>\n",
       "      <td>Aadhar</td>\n",
       "      <td>627636</td>\n",
       "      <td>720336</td>\n",
       "      <td>35</td>\n",
       "      <td>11</td>\n",
       "      <td>0</td>\n",
       "      <td>1</td>\n",
       "    </tr>\n",
       "    <tr>\n",
       "      <th>5599</th>\n",
       "      <td>6999</td>\n",
       "      <td>39</td>\n",
       "      <td>Aadhar</td>\n",
       "      <td>654708</td>\n",
       "      <td>793860</td>\n",
       "      <td>0</td>\n",
       "      <td>0</td>\n",
       "      <td>0</td>\n",
       "      <td>1</td>\n",
       "    </tr>\n",
       "  </tbody>\n",
       "</table>\n",
       "<p>5600 rows × 9 columns</p>\n",
       "</div>"
      ],
      "text/plain": [
       "      loan_id  age proof_submitted  loan_amount  asset_cost  no_of_loans  \\\n",
       "0        2857   35          Aadhar       550188     1055736            8   \n",
       "1        3655   33          Aadhar       580188      749052            0   \n",
       "2        2833   39          Aadhar       542748      614076            0   \n",
       "3        5556   32          Aadhar       675108     1807356            0   \n",
       "4         479   41          Aadhar       750156      975600            0   \n",
       "...       ...  ...             ...          ...         ...          ...   \n",
       "5595     6995   40          Aadhar       696156      868584            0   \n",
       "5596     6996   45          Aadhar       930948     1258344            0   \n",
       "5597     6997   41          Aadhar       681108      791040            4   \n",
       "5598     6998   47          Aadhar       627636      720336           35   \n",
       "5599     6999   39          Aadhar       654708      793860            0   \n",
       "\n",
       "      no_of_curr_loans  last_delinq_none  loan_default  \n",
       "0                    3                 0             0  \n",
       "1                    0                 0             0  \n",
       "2                    0                 0             0  \n",
       "3                    0                 0             0  \n",
       "4                    0                 0             0  \n",
       "...                ...               ...           ...  \n",
       "5595                 0                 0             1  \n",
       "5596                 0                 0             1  \n",
       "5597                 4                 0             1  \n",
       "5598                11                 0             1  \n",
       "5599                 0                 0             1  \n",
       "\n",
       "[5600 rows x 9 columns]"
      ]
     },
     "execution_count": 15,
     "metadata": {},
     "output_type": "execute_result"
    }
   ],
   "source": [
    "sampled_data"
   ]
  },
  {
   "cell_type": "code",
   "execution_count": 16,
   "id": "14f8bab6",
   "metadata": {},
   "outputs": [],
   "source": [
    "sampled_data.to_csv('sampled_data.csv', index=False)\n"
   ]
  },
  {
   "cell_type": "markdown",
   "id": "e2203e53",
   "metadata": {},
   "source": [
    "### Applied One hot encoding"
   ]
  },
  {
   "cell_type": "code",
   "execution_count": 17,
   "id": "b6c4c386",
   "metadata": {},
   "outputs": [],
   "source": [
    "import numpy as np\n",
    "import pandas as pd\n",
    "from sklearn.preprocessing import OneHotEncoder"
   ]
  },
  {
   "cell_type": "code",
   "execution_count": 18,
   "id": "d6afc28e",
   "metadata": {},
   "outputs": [],
   "source": [
    "\n",
    "\n",
    "df = pd.read_csv(\"sampled_data.csv\")"
   ]
  },
  {
   "cell_type": "code",
   "execution_count": 19,
   "id": "9edf0688",
   "metadata": {},
   "outputs": [
    {
     "data": {
      "text/plain": [
       "loan_id              int64\n",
       "age                  int64\n",
       "proof_submitted     object\n",
       "loan_amount          int64\n",
       "asset_cost           int64\n",
       "no_of_loans          int64\n",
       "no_of_curr_loans     int64\n",
       "last_delinq_none     int64\n",
       "loan_default         int64\n",
       "dtype: object"
      ]
     },
     "execution_count": 19,
     "metadata": {},
     "output_type": "execute_result"
    }
   ],
   "source": [
    "df.dtypes"
   ]
  },
  {
   "cell_type": "code",
   "execution_count": 20,
   "id": "1e6376de",
   "metadata": {},
   "outputs": [
    {
     "data": {
      "text/plain": [
       "array(['Aadhar', 'VoterID', 'Driving', 'PAN', 'Passport'], dtype=object)"
      ]
     },
     "execution_count": 20,
     "metadata": {},
     "output_type": "execute_result"
    }
   ],
   "source": [
    "df[\"proof_submitted\"].unique()"
   ]
  },
  {
   "cell_type": "code",
   "execution_count": 21,
   "id": "41b7228e",
   "metadata": {},
   "outputs": [],
   "source": [
    "ohe = OneHotEncoder()"
   ]
  },
  {
   "cell_type": "code",
   "execution_count": 22,
   "id": "55db14c7",
   "metadata": {},
   "outputs": [],
   "source": [
    "feature_arry = ohe.fit_transform(df[[\"proof_submitted\"]]).toarray()"
   ]
  },
  {
   "cell_type": "code",
   "execution_count": 23,
   "id": "a24d68f8",
   "metadata": {},
   "outputs": [
    {
     "name": "stdout",
     "output_type": "stream",
     "text": [
      "[[1. 0. 0. 0. 0.]\n",
      " [1. 0. 0. 0. 0.]\n",
      " [1. 0. 0. 0. 0.]\n",
      " ...\n",
      " [1. 0. 0. 0. 0.]\n",
      " [1. 0. 0. 0. 0.]\n",
      " [1. 0. 0. 0. 0.]]\n"
     ]
    }
   ],
   "source": [
    "print(feature_arry)"
   ]
  },
  {
   "cell_type": "code",
   "execution_count": 24,
   "id": "f9ffe566",
   "metadata": {},
   "outputs": [
    {
     "data": {
      "text/plain": [
       "array(['Aadhar', 'Driving', 'PAN', 'Passport', 'VoterID'], dtype=object)"
      ]
     },
     "execution_count": 24,
     "metadata": {},
     "output_type": "execute_result"
    }
   ],
   "source": [
    "feature_labels = ohe.categories_\n",
    "np.array(feature_labels).ravel()"
   ]
  },
  {
   "cell_type": "code",
   "execution_count": 25,
   "id": "75c944df",
   "metadata": {},
   "outputs": [],
   "source": [
    "features=pd.DataFrame(feature_arry, columns = feature_labels)"
   ]
  },
  {
   "cell_type": "code",
   "execution_count": 26,
   "id": "8f9641d0",
   "metadata": {},
   "outputs": [],
   "source": [
    "df1=pd.concat([df, features], axis=1)"
   ]
  },
  {
   "cell_type": "code",
   "execution_count": 27,
   "id": "849bf33a",
   "metadata": {},
   "outputs": [
    {
     "data": {
      "text/html": [
       "<div>\n",
       "<style scoped>\n",
       "    .dataframe tbody tr th:only-of-type {\n",
       "        vertical-align: middle;\n",
       "    }\n",
       "\n",
       "    .dataframe tbody tr th {\n",
       "        vertical-align: top;\n",
       "    }\n",
       "\n",
       "    .dataframe thead th {\n",
       "        text-align: right;\n",
       "    }\n",
       "</style>\n",
       "<table border=\"1\" class=\"dataframe\">\n",
       "  <thead>\n",
       "    <tr style=\"text-align: right;\">\n",
       "      <th></th>\n",
       "      <th>loan_id</th>\n",
       "      <th>age</th>\n",
       "      <th>proof_submitted</th>\n",
       "      <th>loan_amount</th>\n",
       "      <th>asset_cost</th>\n",
       "      <th>no_of_loans</th>\n",
       "      <th>no_of_curr_loans</th>\n",
       "      <th>last_delinq_none</th>\n",
       "      <th>loan_default</th>\n",
       "      <th>(Aadhar,)</th>\n",
       "      <th>(Driving,)</th>\n",
       "      <th>(PAN,)</th>\n",
       "      <th>(Passport,)</th>\n",
       "      <th>(VoterID,)</th>\n",
       "    </tr>\n",
       "  </thead>\n",
       "  <tbody>\n",
       "    <tr>\n",
       "      <th>0</th>\n",
       "      <td>2857</td>\n",
       "      <td>35</td>\n",
       "      <td>Aadhar</td>\n",
       "      <td>550188</td>\n",
       "      <td>1055736</td>\n",
       "      <td>8</td>\n",
       "      <td>3</td>\n",
       "      <td>0</td>\n",
       "      <td>0</td>\n",
       "      <td>1.0</td>\n",
       "      <td>0.0</td>\n",
       "      <td>0.0</td>\n",
       "      <td>0.0</td>\n",
       "      <td>0.0</td>\n",
       "    </tr>\n",
       "    <tr>\n",
       "      <th>1</th>\n",
       "      <td>3655</td>\n",
       "      <td>33</td>\n",
       "      <td>Aadhar</td>\n",
       "      <td>580188</td>\n",
       "      <td>749052</td>\n",
       "      <td>0</td>\n",
       "      <td>0</td>\n",
       "      <td>0</td>\n",
       "      <td>0</td>\n",
       "      <td>1.0</td>\n",
       "      <td>0.0</td>\n",
       "      <td>0.0</td>\n",
       "      <td>0.0</td>\n",
       "      <td>0.0</td>\n",
       "    </tr>\n",
       "    <tr>\n",
       "      <th>2</th>\n",
       "      <td>2833</td>\n",
       "      <td>39</td>\n",
       "      <td>Aadhar</td>\n",
       "      <td>542748</td>\n",
       "      <td>614076</td>\n",
       "      <td>0</td>\n",
       "      <td>0</td>\n",
       "      <td>0</td>\n",
       "      <td>0</td>\n",
       "      <td>1.0</td>\n",
       "      <td>0.0</td>\n",
       "      <td>0.0</td>\n",
       "      <td>0.0</td>\n",
       "      <td>0.0</td>\n",
       "    </tr>\n",
       "    <tr>\n",
       "      <th>3</th>\n",
       "      <td>5556</td>\n",
       "      <td>32</td>\n",
       "      <td>Aadhar</td>\n",
       "      <td>675108</td>\n",
       "      <td>1807356</td>\n",
       "      <td>0</td>\n",
       "      <td>0</td>\n",
       "      <td>0</td>\n",
       "      <td>0</td>\n",
       "      <td>1.0</td>\n",
       "      <td>0.0</td>\n",
       "      <td>0.0</td>\n",
       "      <td>0.0</td>\n",
       "      <td>0.0</td>\n",
       "    </tr>\n",
       "    <tr>\n",
       "      <th>4</th>\n",
       "      <td>479</td>\n",
       "      <td>41</td>\n",
       "      <td>Aadhar</td>\n",
       "      <td>750156</td>\n",
       "      <td>975600</td>\n",
       "      <td>0</td>\n",
       "      <td>0</td>\n",
       "      <td>0</td>\n",
       "      <td>0</td>\n",
       "      <td>1.0</td>\n",
       "      <td>0.0</td>\n",
       "      <td>0.0</td>\n",
       "      <td>0.0</td>\n",
       "      <td>0.0</td>\n",
       "    </tr>\n",
       "  </tbody>\n",
       "</table>\n",
       "</div>"
      ],
      "text/plain": [
       "   loan_id  age proof_submitted  loan_amount  asset_cost  no_of_loans  \\\n",
       "0     2857   35          Aadhar       550188     1055736            8   \n",
       "1     3655   33          Aadhar       580188      749052            0   \n",
       "2     2833   39          Aadhar       542748      614076            0   \n",
       "3     5556   32          Aadhar       675108     1807356            0   \n",
       "4      479   41          Aadhar       750156      975600            0   \n",
       "\n",
       "   no_of_curr_loans  last_delinq_none  loan_default  (Aadhar,)  (Driving,)  \\\n",
       "0                 3                 0             0        1.0         0.0   \n",
       "1                 0                 0             0        1.0         0.0   \n",
       "2                 0                 0             0        1.0         0.0   \n",
       "3                 0                 0             0        1.0         0.0   \n",
       "4                 0                 0             0        1.0         0.0   \n",
       "\n",
       "   (PAN,)  (Passport,)  (VoterID,)  \n",
       "0     0.0          0.0         0.0  \n",
       "1     0.0          0.0         0.0  \n",
       "2     0.0          0.0         0.0  \n",
       "3     0.0          0.0         0.0  \n",
       "4     0.0          0.0         0.0  "
      ]
     },
     "execution_count": 27,
     "metadata": {},
     "output_type": "execute_result"
    }
   ],
   "source": [
    "df1.head()"
   ]
  },
  {
   "cell_type": "code",
   "execution_count": 28,
   "id": "7197786f",
   "metadata": {},
   "outputs": [],
   "source": [
    "df1=df1.drop([\"proof_submitted\"],axis=1)"
   ]
  },
  {
   "cell_type": "code",
   "execution_count": 29,
   "id": "4294850b",
   "metadata": {},
   "outputs": [],
   "source": [
    "df1.to_csv('sampled_data.csv', index=False)"
   ]
  },
  {
   "cell_type": "markdown",
   "id": "3e4fbd00",
   "metadata": {},
   "source": [
    "### Deciding if outliers should be kept or removed with respect to their relationship with the target class"
   ]
  },
  {
   "cell_type": "code",
   "execution_count": 30,
   "id": "821a5721",
   "metadata": {},
   "outputs": [],
   "source": [
    "sampled_data2=pd.read_csv(\"sampled_data.csv\")"
   ]
  },
  {
   "cell_type": "code",
   "execution_count": 31,
   "id": "8d54c9c9",
   "metadata": {},
   "outputs": [
    {
     "data": {
      "text/html": [
       "<div>\n",
       "<style scoped>\n",
       "    .dataframe tbody tr th:only-of-type {\n",
       "        vertical-align: middle;\n",
       "    }\n",
       "\n",
       "    .dataframe tbody tr th {\n",
       "        vertical-align: top;\n",
       "    }\n",
       "\n",
       "    .dataframe thead th {\n",
       "        text-align: right;\n",
       "    }\n",
       "</style>\n",
       "<table border=\"1\" class=\"dataframe\">\n",
       "  <thead>\n",
       "    <tr style=\"text-align: right;\">\n",
       "      <th></th>\n",
       "      <th>loan_id</th>\n",
       "      <th>age</th>\n",
       "      <th>loan_amount</th>\n",
       "      <th>asset_cost</th>\n",
       "      <th>no_of_loans</th>\n",
       "      <th>no_of_curr_loans</th>\n",
       "      <th>last_delinq_none</th>\n",
       "      <th>loan_default</th>\n",
       "      <th>('Aadhar',)</th>\n",
       "      <th>('Driving',)</th>\n",
       "      <th>('PAN',)</th>\n",
       "      <th>('Passport',)</th>\n",
       "      <th>('VoterID',)</th>\n",
       "    </tr>\n",
       "  </thead>\n",
       "  <tbody>\n",
       "    <tr>\n",
       "      <th>0</th>\n",
       "      <td>2857</td>\n",
       "      <td>35</td>\n",
       "      <td>550188</td>\n",
       "      <td>1055736</td>\n",
       "      <td>8</td>\n",
       "      <td>3</td>\n",
       "      <td>0</td>\n",
       "      <td>0</td>\n",
       "      <td>1.0</td>\n",
       "      <td>0.0</td>\n",
       "      <td>0.0</td>\n",
       "      <td>0.0</td>\n",
       "      <td>0.0</td>\n",
       "    </tr>\n",
       "    <tr>\n",
       "      <th>1</th>\n",
       "      <td>3655</td>\n",
       "      <td>33</td>\n",
       "      <td>580188</td>\n",
       "      <td>749052</td>\n",
       "      <td>0</td>\n",
       "      <td>0</td>\n",
       "      <td>0</td>\n",
       "      <td>0</td>\n",
       "      <td>1.0</td>\n",
       "      <td>0.0</td>\n",
       "      <td>0.0</td>\n",
       "      <td>0.0</td>\n",
       "      <td>0.0</td>\n",
       "    </tr>\n",
       "    <tr>\n",
       "      <th>2</th>\n",
       "      <td>2833</td>\n",
       "      <td>39</td>\n",
       "      <td>542748</td>\n",
       "      <td>614076</td>\n",
       "      <td>0</td>\n",
       "      <td>0</td>\n",
       "      <td>0</td>\n",
       "      <td>0</td>\n",
       "      <td>1.0</td>\n",
       "      <td>0.0</td>\n",
       "      <td>0.0</td>\n",
       "      <td>0.0</td>\n",
       "      <td>0.0</td>\n",
       "    </tr>\n",
       "    <tr>\n",
       "      <th>3</th>\n",
       "      <td>5556</td>\n",
       "      <td>32</td>\n",
       "      <td>675108</td>\n",
       "      <td>1807356</td>\n",
       "      <td>0</td>\n",
       "      <td>0</td>\n",
       "      <td>0</td>\n",
       "      <td>0</td>\n",
       "      <td>1.0</td>\n",
       "      <td>0.0</td>\n",
       "      <td>0.0</td>\n",
       "      <td>0.0</td>\n",
       "      <td>0.0</td>\n",
       "    </tr>\n",
       "    <tr>\n",
       "      <th>4</th>\n",
       "      <td>479</td>\n",
       "      <td>41</td>\n",
       "      <td>750156</td>\n",
       "      <td>975600</td>\n",
       "      <td>0</td>\n",
       "      <td>0</td>\n",
       "      <td>0</td>\n",
       "      <td>0</td>\n",
       "      <td>1.0</td>\n",
       "      <td>0.0</td>\n",
       "      <td>0.0</td>\n",
       "      <td>0.0</td>\n",
       "      <td>0.0</td>\n",
       "    </tr>\n",
       "  </tbody>\n",
       "</table>\n",
       "</div>"
      ],
      "text/plain": [
       "   loan_id  age  loan_amount  asset_cost  no_of_loans  no_of_curr_loans  \\\n",
       "0     2857   35       550188     1055736            8                 3   \n",
       "1     3655   33       580188      749052            0                 0   \n",
       "2     2833   39       542748      614076            0                 0   \n",
       "3     5556   32       675108     1807356            0                 0   \n",
       "4      479   41       750156      975600            0                 0   \n",
       "\n",
       "   last_delinq_none  loan_default  ('Aadhar',)  ('Driving',)  ('PAN',)  \\\n",
       "0                 0             0          1.0           0.0       0.0   \n",
       "1                 0             0          1.0           0.0       0.0   \n",
       "2                 0             0          1.0           0.0       0.0   \n",
       "3                 0             0          1.0           0.0       0.0   \n",
       "4                 0             0          1.0           0.0       0.0   \n",
       "\n",
       "   ('Passport',)  ('VoterID',)  \n",
       "0            0.0           0.0  \n",
       "1            0.0           0.0  \n",
       "2            0.0           0.0  \n",
       "3            0.0           0.0  \n",
       "4            0.0           0.0  "
      ]
     },
     "execution_count": 31,
     "metadata": {},
     "output_type": "execute_result"
    }
   ],
   "source": [
    "sampled_data2.head()"
   ]
  },
  {
   "cell_type": "code",
   "execution_count": 32,
   "id": "a2463ffc",
   "metadata": {},
   "outputs": [],
   "source": [
    "def plot_boxplot(df,ft):\n",
    "\n",
    "    boxplot = sampled_data2.boxplot(column=ft,by=\"loan_default\")\n",
    "    boxplot.set_title(\"\")\n",
    "\n",
    "    plt.show()\n",
    "    \n",
    "   "
   ]
  },
  {
   "cell_type": "code",
   "execution_count": 33,
   "id": "abf1d19f",
   "metadata": {},
   "outputs": [
    {
     "data": {
      "image/png": "[encoded data removed]",
      "text/plain": [
       "<Figure size 432x288 with 1 Axes>"
      ]
     },
     "metadata": {
      "needs_background": "light"
     },
     "output_type": "display_data"
    }
   ],
   "source": [
    "plot_boxplot(sampled_data2,\"loan_amount\")"
   ]
  },
  {
   "cell_type": "code",
   "execution_count": 34,
   "id": "125960f8",
   "metadata": {},
   "outputs": [
    {
     "data": {
      "image/png": "[encoded data removed]",
      "text/plain": [
       "<Figure size 432x288 with 1 Axes>"
      ]
     },
     "metadata": {
      "needs_background": "light"
     },
     "output_type": "display_data"
    }
   ],
   "source": [
    "plot_boxplot(sampled_data2,\"asset_cost\")"
   ]
  },
  {
   "cell_type": "code",
   "execution_count": 35,
   "id": "6dd8a9a5",
   "metadata": {},
   "outputs": [
    {
     "data": {
      "image/png": "[encoded data removed]",
      "text/plain": [
       "<Figure size 432x288 with 1 Axes>"
      ]
     },
     "metadata": {
      "needs_background": "light"
     },
     "output_type": "display_data"
    }
   ],
   "source": [
    "plot_boxplot(sampled_data2,\"no_of_loans\")"
   ]
  },
  {
   "cell_type": "code",
   "execution_count": 36,
   "id": "603910fc",
   "metadata": {},
   "outputs": [
    {
     "data": {
      "image/png": "[encoded data removed]",
      "text/plain": [
       "<Figure size 432x288 with 1 Axes>"
      ]
     },
     "metadata": {
      "needs_background": "light"
     },
     "output_type": "display_data"
    }
   ],
   "source": [
    "plot_boxplot(sampled_data2,\"no_of_curr_loans\")"
   ]
  },
  {
   "cell_type": "markdown",
   "id": "494825ee",
   "metadata": {},
   "source": [
    "### Removal of outliers"
   ]
  },
  {
   "cell_type": "code",
   "execution_count": 37,
   "id": "66c004b7",
   "metadata": {},
   "outputs": [],
   "source": [
    "\n",
    "\n",
    "def remove_outliers(df, threshold):\n",
    "    for column in df.columns:\n",
    "        # Calculate the quartiles and IQR for the column\n",
    "        Q1 = df[column].quantile(0.25)\n",
    "        Q3 = df[column].quantile(0.75)\n",
    "        IQR = Q3 - Q1\n",
    "\n",
    "        # Filter the column to remove outliers\n",
    "        df = df[(df[column] >= Q1 - threshold * IQR) & (df[column] <= Q3 + threshold * IQR)]\n",
    "\n",
    "    return df"
   ]
  },
  {
   "cell_type": "code",
   "execution_count": 38,
   "id": "f52bd524",
   "metadata": {},
   "outputs": [],
   "source": [
    "threshold = 1.5\n",
    "df3=sampled_data2\n",
    "\n",
    "# Call the function to remove outliers from the whole DataFrame\n",
    "df_filtered = remove_outliers(df3, threshold)"
   ]
  },
  {
   "cell_type": "code",
   "execution_count": 39,
   "id": "bb6c680d",
   "metadata": {},
   "outputs": [
    {
     "name": "stdout",
     "output_type": "stream",
     "text": [
      "      loan_id  age  loan_amount  asset_cost  no_of_loans  no_of_curr_loans  \\\n",
      "0        2857   35       550188     1055736            8                 3   \n",
      "1        3655   33       580188      749052            0                 0   \n",
      "2        2833   39       542748      614076            0                 0   \n",
      "4         479   41       750156      975600            0                 0   \n",
      "5        3014   47       572988      824460            4                 2   \n",
      "...       ...  ...          ...         ...          ...               ...   \n",
      "5590     6981   41       536940      747840            0                 0   \n",
      "5594     6992   37       639636      984144            0                 0   \n",
      "5595     6995   40       696156      868584            0                 0   \n",
      "5597     6997   41       681108      791040            4                 4   \n",
      "5599     6999   39       654708      793860            0                 0   \n",
      "\n",
      "      last_delinq_none  loan_default  ('Aadhar',)  ('Driving',)  ('PAN',)  \\\n",
      "0                    0             0          1.0           0.0       0.0   \n",
      "1                    0             0          1.0           0.0       0.0   \n",
      "2                    0             0          1.0           0.0       0.0   \n",
      "4                    0             0          1.0           0.0       0.0   \n",
      "5                    0             0          1.0           0.0       0.0   \n",
      "...                ...           ...          ...           ...       ...   \n",
      "5590                 0             1          1.0           0.0       0.0   \n",
      "5594                 0             1          1.0           0.0       0.0   \n",
      "5595                 0             1          1.0           0.0       0.0   \n",
      "5597                 0             1          1.0           0.0       0.0   \n",
      "5599                 0             1          1.0           0.0       0.0   \n",
      "\n",
      "      ('Passport',)  ('VoterID',)  \n",
      "0               0.0           0.0  \n",
      "1               0.0           0.0  \n",
      "2               0.0           0.0  \n",
      "4               0.0           0.0  \n",
      "5               0.0           0.0  \n",
      "...             ...           ...  \n",
      "5590            0.0           0.0  \n",
      "5594            0.0           0.0  \n",
      "5595            0.0           0.0  \n",
      "5597            0.0           0.0  \n",
      "5599            0.0           0.0  \n",
      "\n",
      "[3795 rows x 13 columns]\n"
     ]
    }
   ],
   "source": [
    "print(df_filtered)"
   ]
  },
  {
   "cell_type": "code",
   "execution_count": 40,
   "id": "4681c0dc",
   "metadata": {},
   "outputs": [
    {
     "data": {
      "image/png": "[encoded data removed]",
      "text/plain": [
       "<Figure size 432x288 with 1 Axes>"
      ]
     },
     "metadata": {
      "needs_background": "light"
     },
     "output_type": "display_data"
    }
   ],
   "source": [
    "boxplot = df_filtered.boxplot(column=\"loan_amount\")\n",
    "boxplot.set_title(\"\")\n",
    "\n",
    "plt.show()\n",
    "    "
   ]
  },
  {
   "cell_type": "code",
   "execution_count": 41,
   "id": "63ed370b",
   "metadata": {},
   "outputs": [
    {
     "data": {
      "image/png": "[encoded data removed]",
      "text/plain": [
       "<Figure size 432x288 with 1 Axes>"
      ]
     },
     "metadata": {
      "needs_background": "light"
     },
     "output_type": "display_data"
    }
   ],
   "source": [
    "boxplot = df_filtered.boxplot(column=\"asset_cost\")\n",
    "boxplot.set_title(\"\")\n",
    "\n",
    "plt.show()"
   ]
  },
  {
   "cell_type": "code",
   "execution_count": 42,
   "id": "a67d90f3",
   "metadata": {},
   "outputs": [
    {
     "data": {
      "image/png": "[encoded data removed]",
      "text/plain": [
       "<Figure size 432x288 with 1 Axes>"
      ]
     },
     "metadata": {
      "needs_background": "light"
     },
     "output_type": "display_data"
    }
   ],
   "source": [
    "boxplot = df_filtered.boxplot(column=\"age\")\n",
    "boxplot.set_title(\"\")\n",
    "\n",
    "plt.show()"
   ]
  },
  {
   "cell_type": "code",
   "execution_count": 43,
   "id": "b4e004b8",
   "metadata": {},
   "outputs": [],
   "source": [
    "threshold = 1.5\n",
    "\n",
    "df_filtered2 = remove_outliers(df_filtered, threshold)"
   ]
  },
  {
   "cell_type": "code",
   "execution_count": 44,
   "id": "084dfa70",
   "metadata": {},
   "outputs": [
    {
     "name": "stdout",
     "output_type": "stream",
     "text": [
      "      loan_id  age  loan_amount  asset_cost  no_of_loans  no_of_curr_loans  \\\n",
      "1        3655   33       580188      749052            0                 0   \n",
      "2        2833   39       542748      614076            0                 0   \n",
      "4         479   41       750156      975600            0                 0   \n",
      "5        3014   47       572988      824460            4                 2   \n",
      "7         573   42       772584      941976            0                 0   \n",
      "...       ...  ...          ...         ...          ...               ...   \n",
      "5590     6981   41       536940      747840            0                 0   \n",
      "5594     6992   37       639636      984144            0                 0   \n",
      "5595     6995   40       696156      868584            0                 0   \n",
      "5597     6997   41       681108      791040            4                 4   \n",
      "5599     6999   39       654708      793860            0                 0   \n",
      "\n",
      "      last_delinq_none  loan_default  ('Aadhar',)  ('Driving',)  ('PAN',)  \\\n",
      "1                    0             0          1.0           0.0       0.0   \n",
      "2                    0             0          1.0           0.0       0.0   \n",
      "4                    0             0          1.0           0.0       0.0   \n",
      "5                    0             0          1.0           0.0       0.0   \n",
      "7                    0             0          1.0           0.0       0.0   \n",
      "...                ...           ...          ...           ...       ...   \n",
      "5590                 0             1          1.0           0.0       0.0   \n",
      "5594                 0             1          1.0           0.0       0.0   \n",
      "5595                 0             1          1.0           0.0       0.0   \n",
      "5597                 0             1          1.0           0.0       0.0   \n",
      "5599                 0             1          1.0           0.0       0.0   \n",
      "\n",
      "      ('Passport',)  ('VoterID',)  \n",
      "1               0.0           0.0  \n",
      "2               0.0           0.0  \n",
      "4               0.0           0.0  \n",
      "5               0.0           0.0  \n",
      "7               0.0           0.0  \n",
      "...             ...           ...  \n",
      "5590            0.0           0.0  \n",
      "5594            0.0           0.0  \n",
      "5595            0.0           0.0  \n",
      "5597            0.0           0.0  \n",
      "5599            0.0           0.0  \n",
      "\n",
      "[3471 rows x 13 columns]\n"
     ]
    }
   ],
   "source": [
    "print(df_filtered2)"
   ]
  },
  {
   "cell_type": "code",
   "execution_count": 45,
   "id": "b2121c6b",
   "metadata": {},
   "outputs": [
    {
     "data": {
      "image/png": "[encoded data removed]",
      "text/plain": [
       "<Figure size 432x288 with 1 Axes>"
      ]
     },
     "metadata": {
      "needs_background": "light"
     },
     "output_type": "display_data"
    }
   ],
   "source": [
    "boxplot = df_filtered2.boxplot(column=\"loan_amount\")\n",
    "boxplot.set_title(\"\")\n",
    "\n",
    "plt.show()\n",
    "    "
   ]
  },
  {
   "cell_type": "markdown",
   "id": "995a8dad",
   "metadata": {},
   "source": [
    "### Saving the cleaned dataset into csv file and separating a few data rows for validation steps"
   ]
  },
  {
   "cell_type": "code",
   "execution_count": 46,
   "id": "2e7a9c03",
   "metadata": {},
   "outputs": [],
   "source": [
    "df_filtered2.to_csv('sampled_data.csv', index=False)\n",
    "\n"
   ]
  },
  {
   "cell_type": "code",
   "execution_count": 47,
   "id": "c8c54b99",
   "metadata": {},
   "outputs": [],
   "source": [
    "\n",
    "data = pd.read_csv('sampled_data.csv')\n",
    "num_rows_to_remove = 10\n",
    "\n",
    "# Randomly select rows to remove\n",
    "removed_rows = data.sample(n=num_rows_to_remove, random_state=42)\n",
    "\n",
    "# Drop the selected rows from the original DataFrame\n",
    "data_filtered = data.drop(removed_rows.index)\n",
    "\n",
    "# Save the modified dataset\n",
    "data_filtered.to_csv('sampled_data.csv', index=False)\n",
    "\n",
    "# Save the removed rows\n",
    "removed_rows.to_csv('validation.csv', index=False)"
   ]
  },
  {
   "cell_type": "markdown",
   "id": "edd020ee",
   "metadata": {},
   "source": [
    "### Data Visualization"
   ]
  },
  {
   "cell_type": "code",
   "execution_count": 48,
   "id": "9e5b5f8a",
   "metadata": {},
   "outputs": [
    {
     "data": {
      "text/plain": [
       "array([0, 4, 3, 5, 2, 6, 7], dtype=int64)"
      ]
     },
     "execution_count": 48,
     "metadata": {},
     "output_type": "execute_result"
    }
   ],
   "source": [
    "df_filtered2[\"no_of_loans\"].unique()"
   ]
  },
  {
   "cell_type": "code",
   "execution_count": 49,
   "id": "4addc1ba",
   "metadata": {},
   "outputs": [
    {
     "data": {
      "text/plain": [
       "<AxesSubplot:xlabel='no_of_loans', ylabel='count'>"
      ]
     },
     "execution_count": 49,
     "metadata": {},
     "output_type": "execute_result"
    },
    {
     "data": {
      "image/png": "[encoded data removed]",
      "text/plain": [
       "<Figure size 432x288 with 1 Axes>"
      ]
     },
     "metadata": {
      "needs_background": "light"
     },
     "output_type": "display_data"
    }
   ],
   "source": [
    "\n",
    "sns.countplot(x='no_of_loans', data=df_filtered2, hue=\"loan_default\")"
   ]
  },
  {
   "cell_type": "code",
   "execution_count": 50,
   "id": "93b7d898",
   "metadata": {},
   "outputs": [
    {
     "data": {
      "text/plain": [
       "<AxesSubplot:xlabel='no_of_curr_loans', ylabel='count'>"
      ]
     },
     "execution_count": 50,
     "metadata": {},
     "output_type": "execute_result"
    },
    {
     "data": {
      "image/png": "[encoded data removed]",
      "text/plain": [
       "<Figure size 432x288 with 1 Axes>"
      ]
     },
     "metadata": {
      "needs_background": "light"
     },
     "output_type": "display_data"
    }
   ],
   "source": [
    "sns.countplot(x='no_of_curr_loans',data=df_filtered2,hue='loan_default')"
   ]
  },
  {
   "cell_type": "code",
   "execution_count": 51,
   "id": "84552b13",
   "metadata": {},
   "outputs": [
    {
     "data": {
      "text/plain": [
       "array([3, 0, 2, 4, 5], dtype=int64)"
      ]
     },
     "execution_count": 51,
     "metadata": {},
     "output_type": "execute_result"
    }
   ],
   "source": [
    "df_filtered[\"no_of_curr_loans\"].unique()"
   ]
  },
  {
   "cell_type": "markdown",
   "id": "b19790d8",
   "metadata": {},
   "source": [
    "# 2. Feature Selection"
   ]
  },
  {
   "cell_type": "markdown",
   "id": "3f1235dd",
   "metadata": {},
   "source": [
    "### CORRELATION:"
   ]
  },
  {
   "cell_type": "code",
   "execution_count": 52,
   "id": "788b1c60",
   "metadata": {},
   "outputs": [
    {
     "data": {
      "text/plain": [
       "<AxesSubplot:>"
      ]
     },
     "execution_count": 52,
     "metadata": {},
     "output_type": "execute_result"
    },
    {
     "data": {
      "image/png": "[encoded data removed]",
      "text/plain": [
       "<Figure size 1080x720 with 2 Axes>"
      ]
     },
     "metadata": {
      "needs_background": "light"
     },
     "output_type": "display_data"
    }
   ],
   "source": [
    "CorrMat=sampled_data2.corr()\n",
    "plt.figure(figsize=(15,10))\n",
    "\n",
    "sns.heatmap(CorrMat,annot=True)"
   ]
  },
  {
   "cell_type": "markdown",
   "id": "dc171fd8",
   "metadata": {},
   "source": [
    "### CHI SQUARED TEST"
   ]
  },
  {
   "cell_type": "code",
   "execution_count": 53,
   "id": "bb4f95dc",
   "metadata": {},
   "outputs": [],
   "source": [
    "\n",
    "from sklearn.feature_selection import SelectPercentile\n",
    "\n",
    "from sklearn.feature_selection import SelectKBest, chi2,f_classif"
   ]
  },
  {
   "cell_type": "code",
   "execution_count": 54,
   "id": "7c5db917",
   "metadata": {},
   "outputs": [
    {
     "data": {
      "text/html": [
       "<div>\n",
       "<style scoped>\n",
       "    .dataframe tbody tr th:only-of-type {\n",
       "        vertical-align: middle;\n",
       "    }\n",
       "\n",
       "    .dataframe tbody tr th {\n",
       "        vertical-align: top;\n",
       "    }\n",
       "\n",
       "    .dataframe thead th {\n",
       "        text-align: right;\n",
       "    }\n",
       "</style>\n",
       "<table border=\"1\" class=\"dataframe\">\n",
       "  <thead>\n",
       "    <tr style=\"text-align: right;\">\n",
       "      <th></th>\n",
       "      <th>loan_id</th>\n",
       "      <th>age</th>\n",
       "      <th>loan_amount</th>\n",
       "      <th>asset_cost</th>\n",
       "      <th>no_of_loans</th>\n",
       "      <th>no_of_curr_loans</th>\n",
       "      <th>last_delinq_none</th>\n",
       "      <th>loan_default</th>\n",
       "      <th>('Aadhar',)</th>\n",
       "      <th>('Driving',)</th>\n",
       "      <th>('PAN',)</th>\n",
       "      <th>('Passport',)</th>\n",
       "      <th>('VoterID',)</th>\n",
       "    </tr>\n",
       "  </thead>\n",
       "  <tbody>\n",
       "    <tr>\n",
       "      <th>0</th>\n",
       "      <td>2857</td>\n",
       "      <td>35</td>\n",
       "      <td>550188</td>\n",
       "      <td>1055736</td>\n",
       "      <td>8</td>\n",
       "      <td>3</td>\n",
       "      <td>0</td>\n",
       "      <td>0</td>\n",
       "      <td>1.0</td>\n",
       "      <td>0.0</td>\n",
       "      <td>0.0</td>\n",
       "      <td>0.0</td>\n",
       "      <td>0.0</td>\n",
       "    </tr>\n",
       "    <tr>\n",
       "      <th>1</th>\n",
       "      <td>3655</td>\n",
       "      <td>33</td>\n",
       "      <td>580188</td>\n",
       "      <td>749052</td>\n",
       "      <td>0</td>\n",
       "      <td>0</td>\n",
       "      <td>0</td>\n",
       "      <td>0</td>\n",
       "      <td>1.0</td>\n",
       "      <td>0.0</td>\n",
       "      <td>0.0</td>\n",
       "      <td>0.0</td>\n",
       "      <td>0.0</td>\n",
       "    </tr>\n",
       "    <tr>\n",
       "      <th>2</th>\n",
       "      <td>2833</td>\n",
       "      <td>39</td>\n",
       "      <td>542748</td>\n",
       "      <td>614076</td>\n",
       "      <td>0</td>\n",
       "      <td>0</td>\n",
       "      <td>0</td>\n",
       "      <td>0</td>\n",
       "      <td>1.0</td>\n",
       "      <td>0.0</td>\n",
       "      <td>0.0</td>\n",
       "      <td>0.0</td>\n",
       "      <td>0.0</td>\n",
       "    </tr>\n",
       "    <tr>\n",
       "      <th>3</th>\n",
       "      <td>5556</td>\n",
       "      <td>32</td>\n",
       "      <td>675108</td>\n",
       "      <td>1807356</td>\n",
       "      <td>0</td>\n",
       "      <td>0</td>\n",
       "      <td>0</td>\n",
       "      <td>0</td>\n",
       "      <td>1.0</td>\n",
       "      <td>0.0</td>\n",
       "      <td>0.0</td>\n",
       "      <td>0.0</td>\n",
       "      <td>0.0</td>\n",
       "    </tr>\n",
       "    <tr>\n",
       "      <th>4</th>\n",
       "      <td>479</td>\n",
       "      <td>41</td>\n",
       "      <td>750156</td>\n",
       "      <td>975600</td>\n",
       "      <td>0</td>\n",
       "      <td>0</td>\n",
       "      <td>0</td>\n",
       "      <td>0</td>\n",
       "      <td>1.0</td>\n",
       "      <td>0.0</td>\n",
       "      <td>0.0</td>\n",
       "      <td>0.0</td>\n",
       "      <td>0.0</td>\n",
       "    </tr>\n",
       "  </tbody>\n",
       "</table>\n",
       "</div>"
      ],
      "text/plain": [
       "   loan_id  age  loan_amount  asset_cost  no_of_loans  no_of_curr_loans  \\\n",
       "0     2857   35       550188     1055736            8                 3   \n",
       "1     3655   33       580188      749052            0                 0   \n",
       "2     2833   39       542748      614076            0                 0   \n",
       "3     5556   32       675108     1807356            0                 0   \n",
       "4      479   41       750156      975600            0                 0   \n",
       "\n",
       "   last_delinq_none  loan_default  ('Aadhar',)  ('Driving',)  ('PAN',)  \\\n",
       "0                 0             0          1.0           0.0       0.0   \n",
       "1                 0             0          1.0           0.0       0.0   \n",
       "2                 0             0          1.0           0.0       0.0   \n",
       "3                 0             0          1.0           0.0       0.0   \n",
       "4                 0             0          1.0           0.0       0.0   \n",
       "\n",
       "   ('Passport',)  ('VoterID',)  \n",
       "0            0.0           0.0  \n",
       "1            0.0           0.0  \n",
       "2            0.0           0.0  \n",
       "3            0.0           0.0  \n",
       "4            0.0           0.0  "
      ]
     },
     "execution_count": 54,
     "metadata": {},
     "output_type": "execute_result"
    }
   ],
   "source": [
    "sampled_data2.head()"
   ]
  },
  {
   "cell_type": "code",
   "execution_count": 55,
   "id": "c3ede583",
   "metadata": {},
   "outputs": [],
   "source": [
    "X=sampled_data2.drop([\"loan_default\"],axis=1)\n",
    "Y=sampled_data2[\"loan_default\"]"
   ]
  },
  {
   "cell_type": "code",
   "execution_count": 56,
   "id": "82926a68",
   "metadata": {},
   "outputs": [],
   "source": [
    "chi2_selector=SelectKBest(f_classif,k=3)\n",
    "kBest=chi2_selector.fit_transform(X,Y)"
   ]
  },
  {
   "cell_type": "code",
   "execution_count": 57,
   "id": "566b48d4",
   "metadata": {},
   "outputs": [],
   "source": [
    "selected_features = X.columns[chi2_selector.get_support()]"
   ]
  },
  {
   "cell_type": "code",
   "execution_count": 58,
   "id": "d04be098",
   "metadata": {},
   "outputs": [],
   "source": [
    "chi2_scores=pd.DataFrame(list(zip(X.columns,chi2_selector.scores_)),columns=[\"feature\",\"score\"])"
   ]
  },
  {
   "cell_type": "code",
   "execution_count": 59,
   "id": "c4946906",
   "metadata": {},
   "outputs": [
    {
     "name": "stdout",
     "output_type": "stream",
     "text": [
      "Selected Features:\n",
      "Index(['loan_amount', 'no_of_curr_loans', '('Aadhar',)'], dtype='object')\n"
     ]
    }
   ],
   "source": [
    "print(\"Selected Features:\")\n",
    "print(selected_features)"
   ]
  },
  {
   "cell_type": "code",
   "execution_count": 60,
   "id": "2bdcc76d",
   "metadata": {},
   "outputs": [
    {
     "data": {
      "text/html": [
       "<div>\n",
       "<style scoped>\n",
       "    .dataframe tbody tr th:only-of-type {\n",
       "        vertical-align: middle;\n",
       "    }\n",
       "\n",
       "    .dataframe tbody tr th {\n",
       "        vertical-align: top;\n",
       "    }\n",
       "\n",
       "    .dataframe thead th {\n",
       "        text-align: right;\n",
       "    }\n",
       "</style>\n",
       "<table border=\"1\" class=\"dataframe\">\n",
       "  <thead>\n",
       "    <tr style=\"text-align: right;\">\n",
       "      <th></th>\n",
       "      <th>feature</th>\n",
       "      <th>score</th>\n",
       "    </tr>\n",
       "  </thead>\n",
       "  <tbody>\n",
       "    <tr>\n",
       "      <th>0</th>\n",
       "      <td>loan_id</td>\n",
       "      <td>1.245573</td>\n",
       "    </tr>\n",
       "    <tr>\n",
       "      <th>1</th>\n",
       "      <td>age</td>\n",
       "      <td>6.116801</td>\n",
       "    </tr>\n",
       "    <tr>\n",
       "      <th>2</th>\n",
       "      <td>loan_amount</td>\n",
       "      <td>79.955283</td>\n",
       "    </tr>\n",
       "    <tr>\n",
       "      <th>3</th>\n",
       "      <td>asset_cost</td>\n",
       "      <td>14.353933</td>\n",
       "    </tr>\n",
       "    <tr>\n",
       "      <th>4</th>\n",
       "      <td>no_of_loans</td>\n",
       "      <td>12.846898</td>\n",
       "    </tr>\n",
       "    <tr>\n",
       "      <th>5</th>\n",
       "      <td>no_of_curr_loans</td>\n",
       "      <td>23.847849</td>\n",
       "    </tr>\n",
       "    <tr>\n",
       "      <th>6</th>\n",
       "      <td>last_delinq_none</td>\n",
       "      <td>1.333734</td>\n",
       "    </tr>\n",
       "    <tr>\n",
       "      <th>7</th>\n",
       "      <td>('Aadhar',)</td>\n",
       "      <td>21.929216</td>\n",
       "    </tr>\n",
       "    <tr>\n",
       "      <th>8</th>\n",
       "      <td>('Driving',)</td>\n",
       "      <td>1.847842</td>\n",
       "    </tr>\n",
       "    <tr>\n",
       "      <th>9</th>\n",
       "      <td>('PAN',)</td>\n",
       "      <td>1.485281</td>\n",
       "    </tr>\n",
       "    <tr>\n",
       "      <th>10</th>\n",
       "      <td>('Passport',)</td>\n",
       "      <td>1.001431</td>\n",
       "    </tr>\n",
       "    <tr>\n",
       "      <th>11</th>\n",
       "      <td>('VoterID',)</td>\n",
       "      <td>19.352055</td>\n",
       "    </tr>\n",
       "  </tbody>\n",
       "</table>\n",
       "</div>"
      ],
      "text/plain": [
       "             feature      score\n",
       "0            loan_id   1.245573\n",
       "1                age   6.116801\n",
       "2        loan_amount  79.955283\n",
       "3         asset_cost  14.353933\n",
       "4        no_of_loans  12.846898\n",
       "5   no_of_curr_loans  23.847849\n",
       "6   last_delinq_none   1.333734\n",
       "7        ('Aadhar',)  21.929216\n",
       "8       ('Driving',)   1.847842\n",
       "9           ('PAN',)   1.485281\n",
       "10     ('Passport',)   1.001431\n",
       "11      ('VoterID',)  19.352055"
      ]
     },
     "execution_count": 60,
     "metadata": {},
     "output_type": "execute_result"
    }
   ],
   "source": [
    " chi2_scores"
   ]
  },
  {
   "cell_type": "markdown",
   "id": "b43076a1",
   "metadata": {},
   "source": [
    "### INFORMATION GAIN"
   ]
  },
  {
   "cell_type": "code",
   "execution_count": 61,
   "id": "1bdf0a5b",
   "metadata": {},
   "outputs": [],
   "source": [
    "from sklearn.feature_selection import mutual_info_classif\n"
   ]
  },
  {
   "cell_type": "code",
   "execution_count": 62,
   "id": "e20dccc8",
   "metadata": {},
   "outputs": [
    {
     "data": {
      "text/html": [
       "<div>\n",
       "<style scoped>\n",
       "    .dataframe tbody tr th:only-of-type {\n",
       "        vertical-align: middle;\n",
       "    }\n",
       "\n",
       "    .dataframe tbody tr th {\n",
       "        vertical-align: top;\n",
       "    }\n",
       "\n",
       "    .dataframe thead th {\n",
       "        text-align: right;\n",
       "    }\n",
       "</style>\n",
       "<table border=\"1\" class=\"dataframe\">\n",
       "  <thead>\n",
       "    <tr style=\"text-align: right;\">\n",
       "      <th></th>\n",
       "      <th>loan_id</th>\n",
       "      <th>age</th>\n",
       "      <th>loan_amount</th>\n",
       "      <th>asset_cost</th>\n",
       "      <th>no_of_loans</th>\n",
       "      <th>no_of_curr_loans</th>\n",
       "      <th>last_delinq_none</th>\n",
       "      <th>('Aadhar',)</th>\n",
       "      <th>('Driving',)</th>\n",
       "      <th>('PAN',)</th>\n",
       "      <th>('Passport',)</th>\n",
       "      <th>('VoterID',)</th>\n",
       "    </tr>\n",
       "  </thead>\n",
       "  <tbody>\n",
       "    <tr>\n",
       "      <th>0</th>\n",
       "      <td>2857</td>\n",
       "      <td>35</td>\n",
       "      <td>550188</td>\n",
       "      <td>1055736</td>\n",
       "      <td>8</td>\n",
       "      <td>3</td>\n",
       "      <td>0</td>\n",
       "      <td>1.0</td>\n",
       "      <td>0.0</td>\n",
       "      <td>0.0</td>\n",
       "      <td>0.0</td>\n",
       "      <td>0.0</td>\n",
       "    </tr>\n",
       "    <tr>\n",
       "      <th>1</th>\n",
       "      <td>3655</td>\n",
       "      <td>33</td>\n",
       "      <td>580188</td>\n",
       "      <td>749052</td>\n",
       "      <td>0</td>\n",
       "      <td>0</td>\n",
       "      <td>0</td>\n",
       "      <td>1.0</td>\n",
       "      <td>0.0</td>\n",
       "      <td>0.0</td>\n",
       "      <td>0.0</td>\n",
       "      <td>0.0</td>\n",
       "    </tr>\n",
       "    <tr>\n",
       "      <th>2</th>\n",
       "      <td>2833</td>\n",
       "      <td>39</td>\n",
       "      <td>542748</td>\n",
       "      <td>614076</td>\n",
       "      <td>0</td>\n",
       "      <td>0</td>\n",
       "      <td>0</td>\n",
       "      <td>1.0</td>\n",
       "      <td>0.0</td>\n",
       "      <td>0.0</td>\n",
       "      <td>0.0</td>\n",
       "      <td>0.0</td>\n",
       "    </tr>\n",
       "    <tr>\n",
       "      <th>3</th>\n",
       "      <td>5556</td>\n",
       "      <td>32</td>\n",
       "      <td>675108</td>\n",
       "      <td>1807356</td>\n",
       "      <td>0</td>\n",
       "      <td>0</td>\n",
       "      <td>0</td>\n",
       "      <td>1.0</td>\n",
       "      <td>0.0</td>\n",
       "      <td>0.0</td>\n",
       "      <td>0.0</td>\n",
       "      <td>0.0</td>\n",
       "    </tr>\n",
       "    <tr>\n",
       "      <th>4</th>\n",
       "      <td>479</td>\n",
       "      <td>41</td>\n",
       "      <td>750156</td>\n",
       "      <td>975600</td>\n",
       "      <td>0</td>\n",
       "      <td>0</td>\n",
       "      <td>0</td>\n",
       "      <td>1.0</td>\n",
       "      <td>0.0</td>\n",
       "      <td>0.0</td>\n",
       "      <td>0.0</td>\n",
       "      <td>0.0</td>\n",
       "    </tr>\n",
       "  </tbody>\n",
       "</table>\n",
       "</div>"
      ],
      "text/plain": [
       "   loan_id  age  loan_amount  asset_cost  no_of_loans  no_of_curr_loans  \\\n",
       "0     2857   35       550188     1055736            8                 3   \n",
       "1     3655   33       580188      749052            0                 0   \n",
       "2     2833   39       542748      614076            0                 0   \n",
       "3     5556   32       675108     1807356            0                 0   \n",
       "4      479   41       750156      975600            0                 0   \n",
       "\n",
       "   last_delinq_none  ('Aadhar',)  ('Driving',)  ('PAN',)  ('Passport',)  \\\n",
       "0                 0          1.0           0.0       0.0            0.0   \n",
       "1                 0          1.0           0.0       0.0            0.0   \n",
       "2                 0          1.0           0.0       0.0            0.0   \n",
       "3                 0          1.0           0.0       0.0            0.0   \n",
       "4                 0          1.0           0.0       0.0            0.0   \n",
       "\n",
       "   ('VoterID',)  \n",
       "0           0.0  \n",
       "1           0.0  \n",
       "2           0.0  \n",
       "3           0.0  \n",
       "4           0.0  "
      ]
     },
     "execution_count": 62,
     "metadata": {},
     "output_type": "execute_result"
    }
   ],
   "source": [
    "X.head()"
   ]
  },
  {
   "cell_type": "code",
   "execution_count": 63,
   "id": "f8a769a0",
   "metadata": {},
   "outputs": [
    {
     "data": {
      "text/plain": [
       "array([0.        , 0.00438302, 0.00923336, 0.00525722, 0.01210109,\n",
       "       0.        , 0.        , 0.00982624, 0.00041892, 0.0072607 ,\n",
       "       0.        , 0.        ])"
      ]
     },
     "execution_count": 63,
     "metadata": {},
     "output_type": "execute_result"
    }
   ],
   "source": [
    "feature_scores=mutual_info_classif(X,Y,random_state=0)\n",
    "feature_scores"
   ]
  },
  {
   "cell_type": "markdown",
   "id": "730661c9",
   "metadata": {},
   "source": [
    "# 3. Model selection\n"
   ]
  },
  {
   "cell_type": "code",
   "execution_count": 64,
   "id": "a995e6a6",
   "metadata": {},
   "outputs": [
    {
     "name": "stdout",
     "output_type": "stream",
     "text": [
      "[[ 0.07763981  0.          0.        ]\n",
      " [ 0.09701102  0.          0.        ]\n",
      " [ 0.01464464  0.         -1.        ]\n",
      " ...\n",
      " [ 1.07479224  1.          0.        ]\n",
      " [-0.64676598  0.          0.        ]\n",
      " [-0.97762625  0.          0.        ]]\n"
     ]
    }
   ],
   "source": [
    "from sklearn.model_selection import train_test_split\n",
    "\n",
    "\n",
    "y = sampled_data2['loan_default']\n",
    "X = sampled_data2[[\"loan_amount\",\"no_of_curr_loans\",\"('Aadhar',)\"]]\n",
    "\n",
    "\n",
    "\n",
    "\n",
    "from sklearn.preprocessing import RobustScaler\n",
    "\n",
    "scaler = RobustScaler()\n",
    "X_train, X_test, y_train, y_test = train_test_split(X, y, test_size=0.3, random_state=1, stratify=y)\n",
    "\n",
    "X_train = scaler.fit_transform(X_train)\n",
    "\n",
    "X_test = scaler.transform(X_test)\n",
    "\n",
    "# X_train # return dataframe train\n",
    "print(X_train)"
   ]
  },
  {
   "cell_type": "markdown",
   "id": "e850ccc0",
   "metadata": {},
   "source": [
    "### SVM"
   ]
  },
  {
   "cell_type": "code",
   "execution_count": 65,
   "id": "f3ccbf82",
   "metadata": {},
   "outputs": [
    {
     "data": {
      "text/html": [
       "<style>#sk-container-id-1 {color: black;background-color: white;}#sk-container-id-1 pre{padding: 0;}#sk-container-id-1 div.sk-toggleable {background-color: white;}#sk-container-id-1 label.sk-toggleable__label {cursor: pointer;display: block;width: 100%;margin-bottom: 0;padding: 0.3em;box-sizing: border-box;text-align: center;}#sk-container-id-1 label.sk-toggleable__label-arrow:before {content: \"▸\";float: left;margin-right: 0.25em;color: #696969;}#sk-container-id-1 label.sk-toggleable__label-arrow:hover:before {color: black;}#sk-container-id-1 div.sk-estimator:hover label.sk-toggleable__label-arrow:before {color: black;}#sk-container-id-1 div.sk-toggleable__content {max-height: 0;max-width: 0;overflow: hidden;text-align: left;background-color: #f0f8ff;}#sk-container-id-1 div.sk-toggleable__content pre {margin: 0.2em;color: black;border-radius: 0.25em;background-color: #f0f8ff;}#sk-container-id-1 input.sk-toggleable__control:checked~div.sk-toggleable__content {max-height: 200px;max-width: 100%;overflow: auto;}#sk-container-id-1 input.sk-toggleable__control:checked~label.sk-toggleable__label-arrow:before {content: \"▾\";}#sk-container-id-1 div.sk-estimator input.sk-toggleable__control:checked~label.sk-toggleable__label {background-color: #d4ebff;}#sk-container-id-1 div.sk-label input.sk-toggleable__control:checked~label.sk-toggleable__label {background-color: #d4ebff;}#sk-container-id-1 input.sk-hidden--visually {border: 0;clip: rect(1px 1px 1px 1px);clip: rect(1px, 1px, 1px, 1px);height: 1px;margin: -1px;overflow: hidden;padding: 0;position: absolute;width: 1px;}#sk-container-id-1 div.sk-estimator {font-family: monospace;background-color: #f0f8ff;border: 1px dotted black;border-radius: 0.25em;box-sizing: border-box;margin-bottom: 0.5em;}#sk-container-id-1 div.sk-estimator:hover {background-color: #d4ebff;}#sk-container-id-1 div.sk-parallel-item::after {content: \"\";width: 100%;border-bottom: 1px solid gray;flex-grow: 1;}#sk-container-id-1 div.sk-label:hover label.sk-toggleable__label {background-color: #d4ebff;}#sk-container-id-1 div.sk-serial::before {content: \"\";position: absolute;border-left: 1px solid gray;box-sizing: border-box;top: 0;bottom: 0;left: 50%;z-index: 0;}#sk-container-id-1 div.sk-serial {display: flex;flex-direction: column;align-items: center;background-color: white;padding-right: 0.2em;padding-left: 0.2em;position: relative;}#sk-container-id-1 div.sk-item {position: relative;z-index: 1;}#sk-container-id-1 div.sk-parallel {display: flex;align-items: stretch;justify-content: center;background-color: white;position: relative;}#sk-container-id-1 div.sk-item::before, #sk-container-id-1 div.sk-parallel-item::before {content: \"\";position: absolute;border-left: 1px solid gray;box-sizing: border-box;top: 0;bottom: 0;left: 50%;z-index: -1;}#sk-container-id-1 div.sk-parallel-item {display: flex;flex-direction: column;z-index: 1;position: relative;background-color: white;}#sk-container-id-1 div.sk-parallel-item:first-child::after {align-self: flex-end;width: 50%;}#sk-container-id-1 div.sk-parallel-item:last-child::after {align-self: flex-start;width: 50%;}#sk-container-id-1 div.sk-parallel-item:only-child::after {width: 0;}#sk-container-id-1 div.sk-dashed-wrapped {border: 1px dashed gray;margin: 0 0.4em 0.5em 0.4em;box-sizing: border-box;padding-bottom: 0.4em;background-color: white;}#sk-container-id-1 div.sk-label label {font-family: monospace;font-weight: bold;display: inline-block;line-height: 1.2em;}#sk-container-id-1 div.sk-label-container {text-align: center;}#sk-container-id-1 div.sk-container {/* jupyter's `normalize.less` sets `[hidden] { display: none; }` but bootstrap.min.css set `[hidden] { display: none !important; }` so we also need the `!important` here to be able to override the default hidden behavior on the sphinx rendered scikit-learn.org. See: https://github.com/scikit-learn/scikit-learn/issues/21755 */display: inline-block !important;position: relative;}#sk-container-id-1 div.sk-text-repr-fallback {display: none;}</style><div id=\"sk-container-id-1\" class=\"sk-top-container\"><div class=\"sk-text-repr-fallback\"><pre>SVC()</pre><b>In a Jupyter environment, please rerun this cell to show the HTML representation or trust the notebook. <br />On GitHub, the HTML representation is unable to render, please try loading this page with nbviewer.org.</b></div><div class=\"sk-container\" hidden><div class=\"sk-item\"><div class=\"sk-estimator sk-toggleable\"><input class=\"sk-toggleable__control sk-hidden--visually\" id=\"sk-estimator-id-1\" type=\"checkbox\" checked><label for=\"sk-estimator-id-1\" class=\"sk-toggleable__label sk-toggleable__label-arrow\">SVC</label><div class=\"sk-toggleable__content\"><pre>SVC()</pre></div></div></div></div></div>"
      ],
      "text/plain": [
       "SVC()"
      ]
     },
     "execution_count": 65,
     "metadata": {},
     "output_type": "execute_result"
    }
   ],
   "source": [
    "# Instantiate the Support Vector Classifier (SVC)\n",
    "# svc = SVC(C=1.0, random_state=1, kernel='linear')\n",
    "svc=SVC()\n",
    "# Fit the model\n",
    "svc.fit(X_train, y_train)\n",
    "# svc.fit(X_train, y_train)"
   ]
  },
  {
   "cell_type": "code",
   "execution_count": 66,
   "id": "bb41dee1",
   "metadata": {},
   "outputs": [
    {
     "data": {
      "text/plain": [
       "0.5660714285714286"
      ]
     },
     "execution_count": 66,
     "metadata": {},
     "output_type": "execute_result"
    }
   ],
   "source": [
    "# Make the predictions\n",
    "y_predict = svc.predict(X_test)\n",
    " \n",
    "# # Measure the performance\n",
    "# print(\"Accuracy score %.3f\" %metrics.accuracy_score(y_test, y_predict))\n",
    "\n",
    "svc.score(X_test,y_test)"
   ]
  },
  {
   "cell_type": "code",
   "execution_count": 67,
   "id": "f95a465d",
   "metadata": {},
   "outputs": [
    {
     "name": "stdout",
     "output_type": "stream",
     "text": [
      "              precision    recall  f1-score   support\n",
      "\n",
      "           0       0.59      0.45      0.51       840\n",
      "           1       0.55      0.69      0.61       840\n",
      "\n",
      "    accuracy                           0.57      1680\n",
      "   macro avg       0.57      0.57      0.56      1680\n",
      "weighted avg       0.57      0.57      0.56      1680\n",
      "\n",
      "[[374 466]\n",
      " [263 577]]\n"
     ]
    }
   ],
   "source": [
    "print(classification_report(y_test,y_predict))\n",
    "print(confusion_matrix(y_test,y_predict))"
   ]
  },
  {
   "cell_type": "markdown",
   "id": "a7f0ddd5",
   "metadata": {},
   "source": [
    "### Decision Trees"
   ]
  },
  {
   "cell_type": "code",
   "execution_count": 68,
   "id": "95998992",
   "metadata": {},
   "outputs": [],
   "source": [
    "dt=DecisionTreeClassifier()\n",
    "dt.fit(X_train,y_train)\n",
    "pred=dt.predict(X_test)"
   ]
  },
  {
   "cell_type": "code",
   "execution_count": 69,
   "id": "e7ca5a3f",
   "metadata": {},
   "outputs": [
    {
     "data": {
      "text/plain": [
       "0.5321428571428571"
      ]
     },
     "execution_count": 69,
     "metadata": {},
     "output_type": "execute_result"
    }
   ],
   "source": [
    "dt.score(X_test,y_test)"
   ]
  },
  {
   "cell_type": "code",
   "execution_count": 70,
   "id": "bcbd9e88",
   "metadata": {},
   "outputs": [
    {
     "name": "stdout",
     "output_type": "stream",
     "text": [
      "              precision    recall  f1-score   support\n",
      "\n",
      "           0       0.53      0.59      0.56       840\n",
      "           1       0.54      0.47      0.50       840\n",
      "\n",
      "    accuracy                           0.53      1680\n",
      "   macro avg       0.53      0.53      0.53      1680\n",
      "weighted avg       0.53      0.53      0.53      1680\n",
      "\n",
      "[[495 345]\n",
      " [441 399]]\n"
     ]
    }
   ],
   "source": [
    "print(classification_report(y_test,pred))\n",
    "print(confusion_matrix(y_test,pred))"
   ]
  },
  {
   "cell_type": "markdown",
   "id": "9f41d0fe",
   "metadata": {},
   "source": [
    "### Logistic Regression"
   ]
  },
  {
   "cell_type": "code",
   "execution_count": 71,
   "id": "d01b206f",
   "metadata": {},
   "outputs": [
    {
     "name": "stdout",
     "output_type": "stream",
     "text": [
      "              precision    recall  f1-score   support\n",
      "\n",
      "           0       0.59      0.56      0.57       840\n",
      "           1       0.58      0.61      0.60       840\n",
      "\n",
      "    accuracy                           0.58      1680\n",
      "   macro avg       0.58      0.58      0.58      1680\n",
      "weighted avg       0.58      0.58      0.58      1680\n",
      "\n",
      "[[467 373]\n",
      " [325 515]]\n"
     ]
    }
   ],
   "source": [
    "\n",
    "logreg = LogisticRegression()\n",
    "\n",
    "logreg.fit(X_train, y_train)\n",
    "\n",
    "y_pred = logreg.predict(X_test)\n",
    "\n",
    "\n",
    "print(classification_report(y_test, y_pred))\n",
    "print(confusion_matrix(y_test,y_pred))"
   ]
  },
  {
   "cell_type": "code",
   "execution_count": 72,
   "id": "9562488f",
   "metadata": {},
   "outputs": [
    {
     "data": {
      "text/plain": [
       "0.5845238095238096"
      ]
     },
     "execution_count": 72,
     "metadata": {},
     "output_type": "execute_result"
    }
   ],
   "source": [
    "logreg.score(X_test,y_test)"
   ]
  },
  {
   "cell_type": "code",
   "execution_count": 73,
   "id": "90e3c172",
   "metadata": {},
   "outputs": [
    {
     "name": "stdout",
     "output_type": "stream",
     "text": [
      "              precision    recall  f1-score   support\n",
      "\n",
      "           0       0.59      0.56      0.57       840\n",
      "           1       0.58      0.61      0.60       840\n",
      "\n",
      "    accuracy                           0.58      1680\n",
      "   macro avg       0.58      0.58      0.58      1680\n",
      "weighted avg       0.58      0.58      0.58      1680\n",
      "\n",
      "[[467 373]\n",
      " [325 515]]\n"
     ]
    }
   ],
   "source": [
    "print(classification_report(y_test,y_pred))\n",
    "print(confusion_matrix(y_test,y_pred))"
   ]
  },
  {
   "cell_type": "markdown",
   "id": "87d0a89f",
   "metadata": {},
   "source": [
    "# 4. K-Fold cross Validation"
   ]
  },
  {
   "cell_type": "markdown",
   "id": "4b990a9b",
   "metadata": {},
   "source": [
    "### Testing the model on the data we trained:"
   ]
  },
  {
   "cell_type": "markdown",
   "id": "c3c1cc80",
   "metadata": {},
   "source": [
    "#### Logistic regression:"
   ]
  },
  {
   "cell_type": "code",
   "execution_count": 74,
   "id": "a184b4a3",
   "metadata": {},
   "outputs": [
    {
     "data": {
      "text/plain": [
       "array([0.49973219, 0.50026781, 0.5       ])"
      ]
     },
     "execution_count": 74,
     "metadata": {},
     "output_type": "execute_result"
    }
   ],
   "source": [
    "cross_val_score(LogisticRegression(), X, y,cv=3)"
   ]
  },
  {
   "cell_type": "markdown",
   "id": "3b3f7704",
   "metadata": {},
   "source": [
    "#### SVM:"
   ]
  },
  {
   "cell_type": "code",
   "execution_count": 75,
   "id": "f5885d83",
   "metadata": {},
   "outputs": [
    {
     "data": {
      "text/plain": [
       "array([0.56400643, 0.55115158, 0.55841372])"
      ]
     },
     "execution_count": 75,
     "metadata": {},
     "output_type": "execute_result"
    }
   ],
   "source": [
    "cross_val_score(SVC(), X, y,cv=3)\n"
   ]
  },
  {
   "cell_type": "markdown",
   "id": "f09c9262",
   "metadata": {},
   "source": [
    "#### Decision tree:"
   ]
  },
  {
   "cell_type": "code",
   "execution_count": 76,
   "id": "b37df6fb",
   "metadata": {},
   "outputs": [
    {
     "data": {
      "text/plain": [
       "array([0.52329941, 0.51847884, 0.51607717])"
      ]
     },
     "execution_count": 76,
     "metadata": {},
     "output_type": "execute_result"
    }
   ],
   "source": [
    "cross_val_score(DecisionTreeClassifier(),X, y,cv=3)"
   ]
  },
  {
   "cell_type": "markdown",
   "id": "3b542667",
   "metadata": {},
   "source": [
    "### Testing the model on the data on unseen data:"
   ]
  },
  {
   "cell_type": "code",
   "execution_count": 77,
   "id": "014bf807",
   "metadata": {},
   "outputs": [],
   "source": [
    "unseen_data = pd.read_csv('validation.csv')\n",
    "X1 = pd.DataFrame(unseen_data, columns=[\"loan_amount\",\"no_of_curr_loans\",\"('Aadhar',)\"])\n",
    "y1 = unseen_data['loan_default']"
   ]
  },
  {
   "cell_type": "markdown",
   "id": "5f8227c6",
   "metadata": {},
   "source": [
    "#### Logistic regression:"
   ]
  },
  {
   "cell_type": "code",
   "execution_count": 78,
   "id": "329ca72e",
   "metadata": {},
   "outputs": [
    {
     "data": {
      "text/plain": [
       "array([0.5       , 0.66666667, 0.66666667])"
      ]
     },
     "execution_count": 78,
     "metadata": {},
     "output_type": "execute_result"
    }
   ],
   "source": [
    "cross_val_score(LogisticRegression(), X1, y1,cv=3)\n"
   ]
  },
  {
   "cell_type": "markdown",
   "id": "9447ca13",
   "metadata": {},
   "source": [
    "#### SVM:"
   ]
  },
  {
   "cell_type": "code",
   "execution_count": 79,
   "id": "55e3cb02",
   "metadata": {},
   "outputs": [
    {
     "data": {
      "text/plain": [
       "array([0.5       , 0.66666667, 0.66666667])"
      ]
     },
     "execution_count": 79,
     "metadata": {},
     "output_type": "execute_result"
    }
   ],
   "source": [
    "cross_val_score(SVC(), X1, y1,cv=3)\n"
   ]
  },
  {
   "cell_type": "markdown",
   "id": "6c5bc6cc",
   "metadata": {},
   "source": [
    "#### Decision tree:"
   ]
  },
  {
   "cell_type": "code",
   "execution_count": 80,
   "id": "5e4a6365",
   "metadata": {},
   "outputs": [
    {
     "data": {
      "text/plain": [
       "array([0.75      , 0.33333333, 0.66666667])"
      ]
     },
     "execution_count": 80,
     "metadata": {},
     "output_type": "execute_result"
    }
   ],
   "source": [
    "cross_val_score(DecisionTreeClassifier(),X1, y1,cv=3)\n"
   ]
  },
  {
   "cell_type": "code",
   "execution_count": null,
   "id": "1e7d01c6",
   "metadata": {},
   "outputs": [],
   "source": []
  },
  {
   "cell_type": "code",
   "execution_count": null,
   "id": "4ce0e421",
   "metadata": {},
   "outputs": [],
   "source": []
  },
  {
   "cell_type": "code",
   "execution_count": null,
   "id": "1452773c",
   "metadata": {},
   "outputs": [],
   "source": []
  }
 ],
 "metadata": {
  "kernelspec": {
   "display_name": "Python 3 (ipykernel)",
   "language": "python",
   "name": "python3"
  },
  "language_info": {
   "codemirror_mode": {
    "name": "ipython",
    "version": 3
   },
   "file_extension": ".py",
   "mimetype": "text/x-python",
   "name": "python",
   "nbconvert_exporter": "python",
   "pygments_lexer": "ipython3",
   "version": "3.9.7"
  }
 },
 "nbformat": 4,
 "nbformat_minor": 5
}
